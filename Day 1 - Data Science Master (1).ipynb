{
 "cells": [
  {
   "cell_type": "code",
   "execution_count": 9,
   "id": "dc0d8202-758c-438e-ae92-8609374cccaf",
   "metadata": {},
   "outputs": [],
   "source": [
    "# Hello world #"
   ]
  },
  {
   "cell_type": "code",
   "execution_count": null,
   "id": "bd02a2fe-07ff-45a5-b6fb-18b189061c8b",
   "metadata": {},
   "outputs": [],
   "source": []
  },
  {
   "cell_type": "code",
   "execution_count": 5,
   "id": "6746d564-dc1d-4645-af2c-9447704cb884",
   "metadata": {},
   "outputs": [],
   "source": [
    "a=10"
   ]
  },
  {
   "cell_type": "raw",
   "id": "ccd846d7-2260-4c18-9b63-53767816be28",
   "metadata": {},
   "source": [
    "# Hello world #\n"
   ]
  },
  {
   "cell_type": "code",
   "execution_count": 11,
   "id": "2c994dbb-db1f-435e-97b0-66962b2bd371",
   "metadata": {},
   "outputs": [
    {
     "data": {
      "text/plain": [
       "2"
      ]
     },
     "execution_count": 11,
     "metadata": {},
     "output_type": "execute_result"
    }
   ],
   "source": [
    "1+1"
   ]
  },
  {
   "cell_type": "code",
   "execution_count": 12,
   "id": "a2e2e9b0-7c24-49f8-8a72-4bac7f22d3db",
   "metadata": {},
   "outputs": [],
   "source": [
    "## Hello World ##\n"
   ]
  },
  {
   "cell_type": "markdown",
   "id": "74359761-9d28-4dfc-a80c-eff2df5a82b0",
   "metadata": {},
   "source": [
    "# Hello\n",
    "## Hello\n",
    "### Hello"
   ]
  },
  {
   "cell_type": "markdown",
   "id": "05350623-c5b3-41e1-8fd0-b06873972d75",
   "metadata": {},
   "source": [
    "# Hello\n",
    "## Hello\n",
    "### Hello\n",
    "\n",
    "1.Hello"
   ]
  },
  {
   "cell_type": "markdown",
   "id": "8117f885-9c45-4001-b132-30485e4fa42a",
   "metadata": {},
   "source": [
    "# hello "
   ]
  },
  {
   "cell_type": "markdown",
   "id": "f3075517-635a-4b7f-a4ef-28e2aa9d9ee2",
   "metadata": {},
   "source": [
    "# Numbers"
   ]
  },
  {
   "cell_type": "code",
   "execution_count": 20,
   "id": "52297035-c9cc-432b-88e4-d234983c002b",
   "metadata": {},
   "outputs": [
    {
     "data": {
      "text/plain": [
       "4"
      ]
     },
     "execution_count": 20,
     "metadata": {},
     "output_type": "execute_result"
    }
   ],
   "source": [
    "1+3\n",
    "\n"
   ]
  },
  {
   "cell_type": "code",
   "execution_count": 21,
   "id": "cac5f97f-f456-4f32-b3ab-f86999b3370b",
   "metadata": {},
   "outputs": [
    {
     "name": "stdout",
     "output_type": "stream",
     "text": [
      "4\n"
     ]
    }
   ],
   "source": [
    "print(1+3)"
   ]
  },
  {
   "cell_type": "code",
   "execution_count": 22,
   "id": "c4bda75e-056b-44a4-be51-297a6055c964",
   "metadata": {},
   "outputs": [
    {
     "data": {
      "text/plain": [
       "5"
      ]
     },
     "execution_count": 22,
     "metadata": {},
     "output_type": "execute_result"
    }
   ],
   "source": [
    "a=5\n",
    "a"
   ]
  },
  {
   "cell_type": "code",
   "execution_count": 23,
   "id": "e3b3cb6c-6fb3-4034-9128-2b45a6af7885",
   "metadata": {},
   "outputs": [
    {
     "name": "stdout",
     "output_type": "stream",
     "text": [
      "5\n"
     ]
    }
   ],
   "source": [
    "print(a)"
   ]
  },
  {
   "cell_type": "code",
   "execution_count": 24,
   "id": "25c3e400-c305-4ab3-8d00-ae148681dba1",
   "metadata": {},
   "outputs": [
    {
     "name": "stdout",
     "output_type": "stream",
     "text": [
      "Hello\n"
     ]
    }
   ],
   "source": [
    "print(\"Hello\")"
   ]
  },
  {
   "cell_type": "markdown",
   "id": "9440fab0-bad1-4780-a0cb-f3143073ed3a",
   "metadata": {},
   "source": [
    "# Variable Assignment"
   ]
  },
  {
   "cell_type": "code",
   "execution_count": 27,
   "id": "2521ab35-f2ff-42d7-bcc0-d89910fc28f5",
   "metadata": {},
   "outputs": [],
   "source": [
    "Name=\"Jim\""
   ]
  },
  {
   "cell_type": "code",
   "execution_count": 28,
   "id": "b34b46d6-bc37-42c9-819d-d3e528f508f8",
   "metadata": {},
   "outputs": [
    {
     "data": {
      "text/plain": [
       "'Jim'"
      ]
     },
     "execution_count": 28,
     "metadata": {},
     "output_type": "execute_result"
    }
   ],
   "source": [
    "Name"
   ]
  },
  {
   "cell_type": "code",
   "execution_count": 29,
   "id": "0997d064-e792-4d7a-b521-6ae27317de86",
   "metadata": {},
   "outputs": [],
   "source": [
    "Company=\"ineuron\""
   ]
  },
  {
   "cell_type": "code",
   "execution_count": 30,
   "id": "f25c6a07-e5ce-457e-9ec9-46b65840d460",
   "metadata": {},
   "outputs": [
    {
     "data": {
      "text/plain": [
       "'ineuron'"
      ]
     },
     "execution_count": 30,
     "metadata": {},
     "output_type": "execute_result"
    }
   ],
   "source": [
    "Company"
   ]
  },
  {
   "cell_type": "code",
   "execution_count": 31,
   "id": "44509913-b4cb-4dcf-b2be-00684778d360",
   "metadata": {},
   "outputs": [],
   "source": [
    "No=\"1\""
   ]
  },
  {
   "cell_type": "code",
   "execution_count": 33,
   "id": "3b92641e-ea09-45a1-bf3d-7d4591f65c16",
   "metadata": {},
   "outputs": [
    {
     "data": {
      "text/plain": [
       "1"
      ]
     },
     "execution_count": 33,
     "metadata": {},
     "output_type": "execute_result"
    }
   ],
   "source": [
    "No\n"
   ]
  },
  {
   "cell_type": "code",
   "execution_count": 34,
   "id": "d991a105-4e4e-4622-82c3-a16840dbe2b0",
   "metadata": {},
   "outputs": [
    {
     "data": {
      "text/plain": [
       "10"
      ]
     },
     "execution_count": 34,
     "metadata": {},
     "output_type": "execute_result"
    }
   ],
   "source": [
    "number=10\n",
    "number\n"
   ]
  },
  {
   "cell_type": "code",
   "execution_count": 35,
   "id": "7af4f8a2-7871-40db-8a82-fa81c5e9346d",
   "metadata": {},
   "outputs": [
    {
     "data": {
      "text/plain": [
       "''"
      ]
     },
     "execution_count": 35,
     "metadata": {},
     "output_type": "execute_result"
    }
   ],
   "source": [
    "\"\""
   ]
  },
  {
   "cell_type": "code",
   "execution_count": 36,
   "id": "74227d02-eda4-4719-b688-343aa5918f78",
   "metadata": {},
   "outputs": [
    {
     "data": {
      "text/plain": [
       "str"
      ]
     },
     "execution_count": 36,
     "metadata": {},
     "output_type": "execute_result"
    }
   ],
   "source": [
    "type(\"\")"
   ]
  },
  {
   "cell_type": "code",
   "execution_count": 37,
   "id": "f3e9dca3-8169-411a-8b99-01fb3cd30263",
   "metadata": {},
   "outputs": [
    {
     "data": {
      "text/plain": [
       "str"
      ]
     },
     "execution_count": 37,
     "metadata": {},
     "output_type": "execute_result"
    }
   ],
   "source": [
    "type('')"
   ]
  },
  {
   "cell_type": "code",
   "execution_count": 38,
   "id": "e7d31867-9a3f-4e73-9289-46d623c92c3c",
   "metadata": {},
   "outputs": [],
   "source": [
    "type=number"
   ]
  },
  {
   "cell_type": "code",
   "execution_count": 43,
   "id": "27823e63-1625-43cd-a20f-8362a65c2aae",
   "metadata": {},
   "outputs": [],
   "source": [
    "decimal_num=3.7"
   ]
  },
  {
   "cell_type": "code",
   "execution_count": 45,
   "id": "3bcb389f-936d-4537-9048-e442ae51e0b1",
   "metadata": {},
   "outputs": [
    {
     "data": {
      "text/plain": [
       "3.7"
      ]
     },
     "execution_count": 45,
     "metadata": {},
     "output_type": "execute_result"
    }
   ],
   "source": [
    "decimal_num"
   ]
  },
  {
   "cell_type": "code",
   "execution_count": 63,
   "id": "b1726d2a-9673-40fe-8882-387ada33ff75",
   "metadata": {},
   "outputs": [
    {
     "ename": "TypeError",
     "evalue": "'float' object is not callable",
     "output_type": "error",
     "traceback": [
      "\u001b[0;31m---------------------------------------------------------------------------\u001b[0m",
      "\u001b[0;31mTypeError\u001b[0m                                 Traceback (most recent call last)",
      "Cell \u001b[0;32mIn[63], line 1\u001b[0m\n\u001b[0;32m----> 1\u001b[0m \u001b[38;5;28;43mtype\u001b[39;49m\u001b[43m(\u001b[49m\u001b[43mdecimal_num\u001b[49m\u001b[43m)\u001b[49m\n",
      "\u001b[0;31mTypeError\u001b[0m: 'float' object is not callable"
     ]
    }
   ],
   "source": [
    "type(decimal_num)"
   ]
  },
  {
   "cell_type": "code",
   "execution_count": 54,
   "id": "6ea9c8a4-64f2-4e27-bba3-941bcf99f928",
   "metadata": {},
   "outputs": [
    {
     "data": {
      "text/plain": [
       "3.7"
      ]
     },
     "execution_count": 54,
     "metadata": {},
     "output_type": "execute_result"
    }
   ],
   "source": [
    "\n",
    "decimal_num"
   ]
  },
  {
   "cell_type": "code",
   "execution_count": 56,
   "id": "bf461a49-c33a-436f-a12d-1e8edfe2153b",
   "metadata": {},
   "outputs": [
    {
     "data": {
      "text/plain": [
       "(1+2j)"
      ]
     },
     "execution_count": 56,
     "metadata": {},
     "output_type": "execute_result"
    }
   ],
   "source": [
    "1+2j"
   ]
  },
  {
   "cell_type": "code",
   "execution_count": 62,
   "id": "75622ca1-32f8-46bb-be18-013f43a642dd",
   "metadata": {},
   "outputs": [
    {
     "ename": "TypeError",
     "evalue": "'float' object is not callable",
     "output_type": "error",
     "traceback": [
      "\u001b[0;31m---------------------------------------------------------------------------\u001b[0m",
      "\u001b[0;31mTypeError\u001b[0m                                 Traceback (most recent call last)",
      "Cell \u001b[0;32mIn[62], line 1\u001b[0m\n\u001b[0;32m----> 1\u001b[0m \u001b[38;5;28;43mtype\u001b[39;49m\u001b[43m(\u001b[49m\u001b[38;5;241;43m1\u001b[39;49m\u001b[38;5;241;43m+\u001b[39;49m\u001b[38;5;241;43m2\u001b[39;49m\u001b[43mj\u001b[49m\u001b[43m)\u001b[49m\n",
      "\u001b[0;31mTypeError\u001b[0m: 'float' object is not callable"
     ]
    }
   ],
   "source": [
    "type(1+2j)"
   ]
  },
  {
   "cell_type": "code",
   "execution_count": 61,
   "id": "669f56cf-31b4-4a9f-a8fd-23cac080acbe",
   "metadata": {},
   "outputs": [
    {
     "name": "stdout",
     "output_type": "stream",
     "text": [
      "ineuron\n",
      "PWsliks\n"
     ]
    }
   ],
   "source": [
    "company='ineuron'\n",
    "Company='PWsliks'\n",
    "print(company)\n",
    "print(Company)"
   ]
  },
  {
   "cell_type": "code",
   "execution_count": 64,
   "id": "4fff1da9-06cd-440b-a1c1-03ca321edfd9",
   "metadata": {},
   "outputs": [
    {
     "data": {
      "text/plain": [
       "True"
      ]
     },
     "execution_count": 64,
     "metadata": {},
     "output_type": "execute_result"
    }
   ],
   "source": [
    "True"
   ]
  },
  {
   "cell_type": "code",
   "execution_count": 65,
   "id": "a3f16d10-a541-4ff0-883c-472f18df26d8",
   "metadata": {},
   "outputs": [
    {
     "data": {
      "text/plain": [
       "False"
      ]
     },
     "execution_count": 65,
     "metadata": {},
     "output_type": "execute_result"
    }
   ],
   "source": [
    "False"
   ]
  },
  {
   "cell_type": "code",
   "execution_count": 66,
   "id": "aa8e0e7c-58bb-4124-8f12-dcd4f1fbbc5b",
   "metadata": {},
   "outputs": [
    {
     "data": {
      "text/plain": [
       "False"
      ]
     },
     "execution_count": 66,
     "metadata": {},
     "output_type": "execute_result"
    }
   ],
   "source": [
    "True and False\n"
   ]
  },
  {
   "cell_type": "code",
   "execution_count": 67,
   "id": "e7729886-58ba-4c0d-b23f-80dfbd2a0e51",
   "metadata": {},
   "outputs": [
    {
     "data": {
      "text/plain": [
       "True"
      ]
     },
     "execution_count": 67,
     "metadata": {},
     "output_type": "execute_result"
    }
   ],
   "source": [
    "True or False"
   ]
  },
  {
   "cell_type": "code",
   "execution_count": 68,
   "id": "4e147542-6248-4f17-86c8-fb0520afc1f6",
   "metadata": {},
   "outputs": [
    {
     "data": {
      "text/plain": [
       "False"
      ]
     },
     "execution_count": 68,
     "metadata": {},
     "output_type": "execute_result"
    }
   ],
   "source": [
    "not True"
   ]
  },
  {
   "cell_type": "code",
   "execution_count": 69,
   "id": "a09a3055-7db0-47dc-a932-7d5b148bdbb4",
   "metadata": {},
   "outputs": [
    {
     "ename": "TypeError",
     "evalue": "'float' object is not callable",
     "output_type": "error",
     "traceback": [
      "\u001b[0;31m---------------------------------------------------------------------------\u001b[0m",
      "\u001b[0;31mTypeError\u001b[0m                                 Traceback (most recent call last)",
      "Cell \u001b[0;32mIn[69], line 1\u001b[0m\n\u001b[0;32m----> 1\u001b[0m \u001b[38;5;28;43mtype\u001b[39;49m\u001b[43m(\u001b[49m\u001b[38;5;129;43;01mnot\u001b[39;49;00m\u001b[43m \u001b[49m\u001b[38;5;28;43;01mFalse\u001b[39;49;00m\u001b[43m)\u001b[49m\n",
      "\u001b[0;31mTypeError\u001b[0m: 'float' object is not callable"
     ]
    }
   ],
   "source": [
    "type(not False)"
   ]
  },
  {
   "cell_type": "markdown",
   "id": "8bd5ac81-7e10-4714-a71d-a4b4a9df6a3b",
   "metadata": {},
   "source": [
    "bool(0)"
   ]
  },
  {
   "cell_type": "code",
   "execution_count": 71,
   "id": "acb406d5-7acc-4c6a-85b0-f49e118cb63e",
   "metadata": {},
   "outputs": [
    {
     "data": {
      "text/plain": [
       "True"
      ]
     },
     "execution_count": 71,
     "metadata": {},
     "output_type": "execute_result"
    }
   ],
   "source": [
    "bool(1)"
   ]
  },
  {
   "cell_type": "code",
   "execution_count": 74,
   "id": "9951163f-96d0-4d57-9dad-e60c474a473b",
   "metadata": {},
   "outputs": [
    {
     "name": "stdout",
     "output_type": "stream",
     "text": [
      "True\n"
     ]
    }
   ],
   "source": [
    "a=1\n",
    "if (bool(a))==True:\n",
    "    print(\"True\")"
   ]
  },
  {
   "cell_type": "code",
   "execution_count": 77,
   "id": "14d0dcf3-db9e-4520-9014-9469dadb8d2a",
   "metadata": {},
   "outputs": [
    {
     "ename": "SyntaxError",
     "evalue": "invalid syntax (3838162531.py, line 1)",
     "output_type": "error",
     "traceback": [
      "\u001b[0;36m  Cell \u001b[0;32mIn[77], line 1\u001b[0;36m\u001b[0m\n\u001b[0;31m    bool(a)==True:\u001b[0m\n\u001b[0m                 ^\u001b[0m\n\u001b[0;31mSyntaxError\u001b[0m\u001b[0;31m:\u001b[0m invalid syntax\n"
     ]
    }
   ],
   "source": [
    " bool(a)==True:"
   ]
  },
  {
   "cell_type": "markdown",
   "id": "683e1886-08d9-4c56-aa04-f6389da28cfc",
   "metadata": {},
   "source": [
    "# dynamic Typing\n"
   ]
  },
  {
   "cell_type": "code",
   "execution_count": 78,
   "id": "72980614-b0a8-4863-8c72-7d36522ba037",
   "metadata": {},
   "outputs": [],
   "source": [
    "## concatnate"
   ]
  },
  {
   "cell_type": "code",
   "execution_count": 79,
   "id": "57e518be-2ecf-4ecd-aca4-94ef3ec1ec77",
   "metadata": {},
   "outputs": [
    {
     "data": {
      "text/plain": [
       "'11'"
      ]
     },
     "execution_count": 79,
     "metadata": {},
     "output_type": "execute_result"
    }
   ],
   "source": [
    "\"1\" + \"1\""
   ]
  },
  {
   "cell_type": "code",
   "execution_count": 82,
   "id": "f047be6f-e99a-42a2-ab6a-bb7adcac61dc",
   "metadata": {},
   "outputs": [
    {
     "data": {
      "text/plain": [
       "'1111111111111111111111111111111111111111111111111111111111111111111111111111111111111111111111111111'"
      ]
     },
     "execution_count": 82,
     "metadata": {},
     "output_type": "execute_result"
    }
   ],
   "source": [
    "\"1\" * 100"
   ]
  },
  {
   "cell_type": "code",
   "execution_count": 81,
   "id": "d45c50ed-24b7-4e66-a733-51d6c83bbe77",
   "metadata": {},
   "outputs": [
    {
     "data": {
      "text/plain": [
       "2"
      ]
     },
     "execution_count": 81,
     "metadata": {},
     "output_type": "execute_result"
    }
   ],
   "source": [
    "int(\"1\") + int(\"1\")"
   ]
  },
  {
   "cell_type": "code",
   "execution_count": null,
   "id": "9591fe2c-24f4-4f6b-8c31-0b740145eded",
   "metadata": {},
   "outputs": [],
   "source": []
  }
 ],
 "metadata": {
  "kernelspec": {
   "display_name": "Python 3 (ipykernel)",
   "language": "python",
   "name": "python3"
  },
  "language_info": {
   "codemirror_mode": {
    "name": "ipython",
    "version": 3
   },
   "file_extension": ".py",
   "mimetype": "text/x-python",
   "name": "python",
   "nbconvert_exporter": "python",
   "pygments_lexer": "ipython3",
   "version": "3.10.8"
  }
 },
 "nbformat": 4,
 "nbformat_minor": 5
}
